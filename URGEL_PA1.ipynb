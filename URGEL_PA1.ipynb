{
 "cells": [
  {
   "cell_type": "markdown",
   "id": "30c47def-0439-4e3c-bdcc-a242f1eb3d6d",
   "metadata": {},
   "source": [
    "#### URGEL, HANNAH PAULEEN A. URGEL - 2ECE-B"
   ]
  },
  {
   "cell_type": "markdown",
   "id": "6035b798-7e81-4627-8b34-40257877f914",
   "metadata": {},
   "source": [
    "# ALPHABET SOUP PROBLEM:"
   ]
  },
  {
   "cell_type": "markdown",
   "id": "35175a60-4bfc-44bc-92c1-1176c5541ed4",
   "metadata": {},
   "source": [
    "Create a function that takes a string and returns a string with its letters in alphabetical order.\n",
    "\n",
    "Example:\n",
    "\n",
    "alphabet_soup(“hello”) ➞ ehllo\n",
    "\n",
    "alphabet_soup(“hacker”) ➞ acehkr\n"
   ]
  },
  {
   "cell_type": "code",
   "execution_count": 69,
   "id": "1be1def1-fc90-4c76-94e2-d9a8a1109f04",
   "metadata": {},
   "outputs": [],
   "source": [
    "def alphabet_soup(text):\n",
    "    sorted_letters = sorted(text)\n",
    "    return \"\".join(sorted_letters)"
   ]
  },
  {
   "cell_type": "code",
   "execution_count": 70,
   "id": "eda48275-4878-47cc-b9f7-df1c53941b6a",
   "metadata": {},
   "outputs": [
    {
     "name": "stdout",
     "output_type": "stream",
     "text": [
      "ehllo\n"
     ]
    }
   ],
   "source": [
    "print(alphabet_soup(\"hello\"))"
   ]
  },
  {
   "cell_type": "code",
   "execution_count": 71,
   "id": "40a0464d-7de4-4d8a-9af0-017fbfda60e2",
   "metadata": {},
   "outputs": [
    {
     "name": "stdout",
     "output_type": "stream",
     "text": [
      "acehkr\n"
     ]
    }
   ],
   "source": [
    "print(alphabet_soup(\"hacker\"))"
   ]
  },
  {
   "cell_type": "code",
   "execution_count": 72,
   "id": "12b78d62-e651-4da8-89ff-b92ee89406f4",
   "metadata": {},
   "outputs": [
    {
     "name": "stdout",
     "output_type": "stream",
     "text": [
      " aaaeehhlnnnpu\n"
     ]
    }
   ],
   "source": [
    "print(alphabet_soup(\"hannah pauleen\"))"
   ]
  },
  {
   "cell_type": "raw",
   "id": "1762608d-69d7-45f8-9e56-22a9052c22ed",
   "metadata": {},
   "source": []
  },
  {
   "cell_type": "markdown",
   "id": "b22ec24c-b436-483e-a848-380692ac3794",
   "metadata": {},
   "source": [
    "# EMOTICON PROBLEM:"
   ]
  },
  {
   "cell_type": "markdown",
   "id": "74d6d947-f325-4639-9722-4a8c3ffbb160",
   "metadata": {},
   "source": [
    "Create a function that changes specific words into emoticons. Given a sentence as a string, replace the words smile, grin, sad and mad with their corresponding emoticon:\n",
    "\n",
    "Example:\n",
    "\n",
    "emotify(“Make me smile”) ➞ Make me :) \n",
    "\n",
    "emotify(“I am mad”) ➞ I am >:(\n"
   ]
  },
  {
   "cell_type": "code",
   "execution_count": 73,
   "id": "66770ed7-185a-48d2-8c7f-d451ff16cd68",
   "metadata": {},
   "outputs": [],
   "source": [
    "def emotify(sentence):\n",
    "    emoticons = {\n",
    "        \"smile\": \":)\",\n",
    "        \"grin\": \":D\",\n",
    "        \"sad\": \":((\",\n",
    "        \"mad\": \">:(\"\n",
    "    }\n",
    "    words = sentence.split()\n",
    "    new_words = [emoticons.get(word.lower(), word) for word in words]\n",
    "    return \" \".join(new_words)"
   ]
  },
  {
   "cell_type": "code",
   "execution_count": 74,
   "id": "91137e0e-5d25-4e3d-ba2a-d34d470127d1",
   "metadata": {},
   "outputs": [
    {
     "name": "stdout",
     "output_type": "stream",
     "text": [
      "Make me :)\n"
     ]
    }
   ],
   "source": [
    "print(emotify(\"Make me smile\"))"
   ]
  },
  {
   "cell_type": "code",
   "execution_count": 75,
   "id": "f08740fc-53f5-4e39-9909-4a63ee5bc6ac",
   "metadata": {},
   "outputs": [
    {
     "name": "stdout",
     "output_type": "stream",
     "text": [
      "I am >:(\n"
     ]
    }
   ],
   "source": [
    "print(emotify(\"I am Mad\"))"
   ]
  },
  {
   "cell_type": "code",
   "execution_count": 76,
   "id": "9bb089f0-153d-4370-ae47-85d137c1f959",
   "metadata": {},
   "outputs": [
    {
     "name": "stdout",
     "output_type": "stream",
     "text": [
      "Great :D hehe\n"
     ]
    }
   ],
   "source": [
    "print(emotify(\"Great GRIN hehe\"))"
   ]
  },
  {
   "cell_type": "code",
   "execution_count": 77,
   "id": "c7a5c9a1-5aff-43eb-9c64-5f12d95217f6",
   "metadata": {},
   "outputs": [
    {
     "name": "stdout",
     "output_type": "stream",
     "text": [
      "I'm sorry :((\n"
     ]
    }
   ],
   "source": [
    "print(emotify(\"I'm sorry sAd\"))"
   ]
  },
  {
   "cell_type": "raw",
   "id": "c65647db-2153-4a84-987d-439efe6db0f2",
   "metadata": {},
   "source": []
  },
  {
   "cell_type": "markdown",
   "id": "78eeb1f8-b27c-4e48-ade8-80957093c240",
   "metadata": {},
   "source": [
    "# UNPACKING LIST PROBLEM:"
   ]
  },
  {
   "cell_type": "markdown",
   "id": "e505b307-14ac-43dd-91de-7c476fec175e",
   "metadata": {},
   "source": [
    "Unpack the list writeyourcodehere into three variables, being first, middle, and last, with middle being everything in between the first and last element. Then print all three variables.\n",
    "\n",
    "Example:\tlst = [1, 2, 3, 4, 5, 6]\n",
    "\n",
    "Output:\tfirst: 1\tmiddle: [2,3,4,5]\tlast: 6\n"
   ]
  },
  {
   "cell_type": "code",
   "execution_count": 90,
   "id": "4d88457b-8ac4-407a-943d-b72fe8afdb98",
   "metadata": {},
   "outputs": [],
   "source": [
    "writeyourcodehere = [1, 2, 3, 4, 5, 6]"
   ]
  },
  {
   "cell_type": "code",
   "execution_count": 91,
   "id": "6195c460-ba51-46b5-82c8-4e88f3e18ad9",
   "metadata": {},
   "outputs": [],
   "source": [
    "first, *middle, last = writeyourcodehere"
   ]
  },
  {
   "cell_type": "code",
   "execution_count": 92,
   "id": "51957ecb-4a4e-42fb-8b92-2ea80b4cab6b",
   "metadata": {},
   "outputs": [
    {
     "name": "stdout",
     "output_type": "stream",
     "text": [
      "first: 1\n"
     ]
    }
   ],
   "source": [
    "print(\"first:\", first)"
   ]
  },
  {
   "cell_type": "code",
   "execution_count": 94,
   "id": "40d012e1-0393-4800-90ea-f27560d5573d",
   "metadata": {},
   "outputs": [
    {
     "name": "stdout",
     "output_type": "stream",
     "text": [
      "middle: 2 3 4 5\n"
     ]
    }
   ],
   "source": [
    "print(\"middle:\", *middle)"
   ]
  },
  {
   "cell_type": "code",
   "execution_count": 95,
   "id": "6dd164bb-97d8-4201-95ac-3aa1fba724c4",
   "metadata": {},
   "outputs": [
    {
     "name": "stdout",
     "output_type": "stream",
     "text": [
      "last: 6\n"
     ]
    }
   ],
   "source": [
    "print(\"last:\", last)"
   ]
  }
 ],
 "metadata": {
  "kernelspec": {
   "display_name": "Python 3 (ipykernel)",
   "language": "python",
   "name": "python3"
  },
  "language_info": {
   "codemirror_mode": {
    "name": "ipython",
    "version": 3
   },
   "file_extension": ".py",
   "mimetype": "text/x-python",
   "name": "python",
   "nbconvert_exporter": "python",
   "pygments_lexer": "ipython3",
   "version": "3.13.5"
  }
 },
 "nbformat": 4,
 "nbformat_minor": 5
}
